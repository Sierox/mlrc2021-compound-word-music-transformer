{
 "cells": [
  {
   "cell_type": "code",
   "execution_count": 1,
   "metadata": {},
   "outputs": [],
   "source": [
    "using Knet: Knet, minibatch, param, param0, softmax, nll, RNN\n",
    "using Pickle\n",
    "using NPZ\n",
    "using Statistics: mean\n",
    "using DataStructures: OrderedDict"
   ]
  },
  {
   "cell_type": "code",
   "execution_count": 2,
   "metadata": {},
   "outputs": [
    {
     "data": {
      "text/plain": [
       "Dict{Any, Any} with 7 entries:\n",
       "  \"tempo\"    => Dict{Any, Any}(\"Tempo_131\"=>12, \"Tempo_92\"=>53, \"Tempo_176\"=>24…\n",
       "  \"duration\" => Dict{Any, Any}(\"Note_Duration_720\"=>15, \"Note_Duration_840\"=>16…\n",
       "  \"pitch\"    => Dict{Any, Any}(\"Note_Pitch_34\"=>21, \"Note_Pitch_86\"=>73, \"Note_…\n",
       "  \"chord\"    => Dict{Any, Any}(\"D_/o7\"=>69, \"F_M7\"=>105, \"C_m\"=>51, \"C_o\"=>53, …\n",
       "  \"bar-beat\" => Dict{Any, Any}(\"Bar\"=>1, \"Beat_1\"=>3, \"Beat_4\"=>12, \"Beat_11\"=>…\n",
       "  \"velocity\" => Dict{Any, Any}(\"Note_Velocity_54\"=>8, \"Note_Velocity_82\"=>22, \"…\n",
       "  \"type\"     => Dict{Any, Any}(\"EOS\"=>0, \"Metrical\"=>1, \"Note\"=>2)"
      ]
     },
     "execution_count": 2,
     "metadata": {},
     "output_type": "execute_result"
    }
   ],
   "source": [
    "# Load data\n",
    "dir = \"..\\\\dataset\\\\representations\\\\uncond\\\\cp\\\\ailab17k_from-scratch_cp\"\n",
    "t2i, i2t = Pickle.load(open(\"$(dir)\\\\dictionary.pkl\"))\n",
    "train = NPZ.npzread(\"$(dir)\\\\train_data_linear.npz\")\n",
    "test = NPZ.npzread(\"$(dir)\\\\test_data_linear.npz\")\n",
    "\n",
    "toktids = OrderedDict(\"tempo\"=>1,\"chord\"=>2,\"bar-beat\"=>3,\"type\"=>4,\"pitch\"=>5, \"duration\"=>6, \"velocity\"=>7)\n",
    "n_tokens = [length(t2i[k]) for (k, v) in toktids]\n",
    "\n",
    "t2i # For reference"
   ]
  },
  {
   "cell_type": "code",
   "execution_count": 3,
   "metadata": {},
   "outputs": [
    {
     "data": {
      "text/plain": [
       "8"
      ]
     },
     "execution_count": 3,
     "metadata": {},
     "output_type": "execute_result"
    }
   ],
   "source": [
    "# Model settings\n",
    "BATCH_SIZE = 25\n",
    "EMBED_SIZES = [256, 256, 64, 32, 512, 128, 128]\n",
    "D_MODEL = 512\n",
    "N_HEAD = 8"
   ]
  },
  {
   "cell_type": "code",
   "execution_count": 4,
   "metadata": {},
   "outputs": [
    {
     "name": "stdout",
     "output_type": "stream",
     "text": [
      "size(train_x) = (3584, 8, 1625)\n",
      "size(train_y) = (3584, 7, 1625)\n",
      "size(test_x) = (3584, 8, 50)\n",
      "size(test_y) = (3584, 7, 50)\n"
     ]
    },
    {
     "data": {
      "text/plain": [
       "(65, 2)"
      ]
     },
     "execution_count": 4,
     "metadata": {},
     "output_type": "execute_result"
    }
   ],
   "source": [
    "# Minibatching\n",
    "train_x = trunc.(Int, permutedims(\n",
    "          cat(train[\"x\"], reshape(train[\"mask\"], (size(train[\"x\"],1),size(train[\"x\"],2),1)), dims=3),\n",
    "          [2, 3, 1]).+1);                                           @show size(train_x) # T, K+1, B\n",
    "train_y = trunc.(Int, permutedims(train[\"y\"], [2, 3, 1]).+1);       @show size(train_y) # T, K, B\n",
    "test_x = trunc.(Int, permutedims(\n",
    "         cat(test[\"x\"], reshape(test[\"mask\"], (size(test[\"x\"],1),size(test[\"x\"],2),1)), dims=3),\n",
    "         [2, 3, 1]).+1);                                            @show size(test_x) # T, K+1, B\n",
    "test_y = trunc.(Int, permutedims(test[\"y\"], [2, 3, 1]).+1);         @show size(test_y) # T, K, B\n",
    "\n",
    "train_loader = minibatch(train_x, train_y, BATCH_SIZE; shuffle=true)\n",
    "test_loader = minibatch(test_x, test_y, BATCH_SIZE; shuffle=true)\n",
    "\n",
    "length.((train_loader, test_loader))"
   ]
  },
  {
   "cell_type": "markdown",
   "metadata": {},
   "source": [
    "# Model"
   ]
  },
  {
   "cell_type": "code",
   "execution_count": 5,
   "metadata": {},
   "outputs": [],
   "source": [
    "# Simple useful layers\n",
    "\n",
    "struct Linear; W; b; end\n",
    "Linear(input::Int, output::Int) = Linear(param(output, input), param0(output))\n",
    "(l::Linear)(x) = l.W*x .+ l.b\n",
    "\n",
    "struct Embedding; W; end\n",
    "Embedding(n_tokens::Int, embed::Int) = Embedding(param(embed, n_tokens))\n",
    "(e::Embedding)(x) = e.W[:, x]"
   ]
  },
  {
   "cell_type": "code",
   "execution_count": 6,
   "metadata": {},
   "outputs": [],
   "source": [
    "# TODO: Linear Transformer backbone\n",
    "# ϕ(x) = elu(x) + 1 \n",
    "# struct Transformer; W_Q; W_K; W_V; ff; end\n",
    "# Transformer(n_layers, n_heads, q_dim, v_dim, ff_dim; activation=ϕ, dropout=0.1) =\n",
    "#     Transformer(param(q_dim, ???), param(k_dim, ???), param(v_dim, ???), ff_dim)"
   ]
  },
  {
   "cell_type": "code",
   "execution_count": 7,
   "metadata": {},
   "outputs": [
    {
     "data": {
      "text/plain": [
       "sampling (generic function with 1 method)"
      ]
     },
     "execution_count": 7,
     "metadata": {},
     "output_type": "execute_result"
    }
   ],
   "source": [
    "# Sampling function for predicting tokens\n",
    "function sampling(x; dims=1) # TODO : Temperature\n",
    "    # size(x) = (N_tokens[type], B, T)\n",
    "    x = softmax(x, dims=dims)\n",
    "    first.(Tuple.(argmax(x, dims=dims))) # TODO: Weighted sampling\n",
    "end"
   ]
  },
  {
   "cell_type": "code",
   "execution_count": 8,
   "metadata": {},
   "outputs": [],
   "source": [
    "struct CPTransformer; embeds; lin_in; lin_transformer; projs; blend_type; end\n",
    "\n",
    "CPTransformer(n_tokens::Vector{Int}, embed_sizes::Vector{Int}, d_model::Int, d_inner::Int;\n",
    "    blend_dim=32) =\n",
    "    CPTransformer([Embedding(n, e) for (n, e) in zip(n_tokens, embed_sizes)],\n",
    "            Linear(sum(embed_sizes), d_model),\n",
    "            RNN(d_model, d_model), # Placeholder until Transformer implementation\n",
    "            [Linear(d_model, n) for n in n_tokens],\n",
    "            Linear(d_model + blend_dim, d_model))\n",
    "\n",
    "# y    => y != nothing ? [training mode] : [interference mode]\n",
    "# gen  => gen ? return ŷ : return ŷ_P\n",
    "function (model::CPTransformer)(x; y=nothing, gen=false)\n",
    "    x, mask = x[:, 1:end-1, :], x[:, end, :];                    @show size(x) # (T, N_tkn, B)\n",
    "    \n",
    "    x = vcat([embed(x[:, i, :]) for (embed, i) in\n",
    "            zip(model.embeds, 1:length(model.embeds))]...);      @show size(x) # (X_emb, T, B)\n",
    "    \n",
    "    x = cat([model.lin_in(x[:,i,:]) for i in\n",
    "            1:size(x, 2)]..., dims=3);                           @show size(x) # (X_in, B, T)\n",
    "    \n",
    "    # x = Positional_Encoding(x) <-- TODO\n",
    "    \n",
    "    h = model.lin_transformer(x);                                @show size(h) # (D_m, B, T)\n",
    "    \n",
    "    ŷ_type_P = (cat([model.projs[toktids[\"type\"]](h[:,:,i])\n",
    "            for i in 1:size(h, 3)]..., dims=3));                 @show size(ŷ_type_P) # (N_tvoc, B, T)\n",
    "    \n",
    "    ŷ_type = y!=nothing ? y[:, toktids[\"type\"], :] : \n",
    "            reshape(sampling(ŷ_type_P), (size(ŷ_type_P, 3), :)); @show size(ŷ_type) # (T, B)\n",
    "               \n",
    "    ŷ_τ = vcat([permutedims(h, [1,3,2]), \n",
    "            model.embeds[toktids[\"type\"]](ŷ_type)]...);          @show size(ŷ_τ) # (D_m + blend, B, T)\n",
    "    \n",
    "    h_ = cat([model.blend_type(ŷ_τ[:, i, :]) for i in\n",
    "            1:size(ŷ_τ, 2)]..., dims=3);                         @show size(h_) # (D_m, B, T)\n",
    "    \n",
    "    ŷ_P = [permutedims(i!=toktids[\"type\"] ? \n",
    "            cat([proj(h[:,:,i]) for i in 1:size(h, 3)]..., dims=3) : \n",
    "            ŷ_type_P, [3,1,2]) for (proj,i)\n",
    "            in zip(model.projs, 1:length(model.projs))];         @show size.(ŷ_P) # (T, N_tvoc, B)*    \n",
    "    \n",
    "    gen ? hcat([permutedims(sampling(permutedims(P, [2,3,1])),[3,1,2]) for P in ŷ_P]...) : ŷ_P\n",
    "end\n",
    "\n",
    "function (model::CPTransformer)(x, y; train=true)\n",
    "    ŷ_P = train ? model(x, y=y) : model(x)\n",
    "    loss = mean([nll(ŷ_P[i], reshape(y[:,i,:], (size(y,1),1,:)), dims=2) for i in length(n_tokens)])\n",
    "end"
   ]
  },
  {
   "cell_type": "code",
   "execution_count": 9,
   "metadata": {},
   "outputs": [
    {
     "name": "stdout",
     "output_type": "stream",
     "text": [
      "size(x) = (3584, 7, 25)\n",
      "size(x) = (1376, 3584, 25)\n",
      "size(x) = (512, 25, 3584)\n",
      "size(h) = (512, 25, 3584)\n",
      "size(ŷ_type_P) = (3, 25, 3584)\n",
      "size(ŷ_type) = (3584, 25)\n",
      "size(ŷ_τ) = (544, 3584, 25)\n",
      "size(h_) = (512, 25, 3584)\n",
      "size.(ŷ_P) = [(3584, 56, 25), (3584, 135, 25), (3584, 18, 25), (3584, 3, 25), (3584, 87, 25), (3584, 18, 25), (3584, 25, 25)]\n",
      "loss = 3.3513305f0\n"
     ]
    },
    {
     "data": {
      "text/plain": [
       "3.3513305f0"
      ]
     },
     "execution_count": 9,
     "metadata": {},
     "output_type": "execute_result"
    }
   ],
   "source": [
    "model = CPTransformer(n_tokens, EMBED_SIZES, 512, 2048)\n",
    "x, y = first(train_loader)\n",
    "loss = model(x, y)\n",
    "@show loss"
   ]
  },
  {
   "cell_type": "code",
   "execution_count": 10,
   "metadata": {},
   "outputs": [
    {
     "name": "stdout",
     "output_type": "stream",
     "text": [
      "size(x) = (3584, 7, 25)\n",
      "size(x) = (1376, 3584, 25)\n",
      "size(x) = (512, 25, 3584)\n",
      "size(h) = (512, 25, 3584)\n",
      "size(ŷ_type_P) = (3, 25, 3584)\n",
      "size(ŷ_type) = (3584, 25)\n",
      "size(ŷ_τ) = (544, 3584, 25)\n",
      "size(h_) = (512, 25, 3584)\n",
      "size.(ŷ_P) = [(3584, 56, 25), (3584, 135, 25), (3584, 18, 25), (3584, 3, 25), (3584, 87, 25), (3584, 18, 25), (3584, 25, 25)]\n",
      "summary.((y, gen)) = (\"3584×7×25 Array{Int64, 3}\", \"3584×7×25 Array{Int64, 3}\")\n"
     ]
    },
    {
     "data": {
      "text/plain": [
       "(\"3584×7×25 Array{Int64, 3}\", \"3584×7×25 Array{Int64, 3}\")"
      ]
     },
     "execution_count": 10,
     "metadata": {},
     "output_type": "execute_result"
    }
   ],
   "source": [
    "x, y = first(test_loader)\n",
    "gen = model(x, gen=true)\n",
    "@show summary.((y, gen))"
   ]
  },
  {
   "cell_type": "code",
   "execution_count": null,
   "metadata": {},
   "outputs": [],
   "source": []
  }
 ],
 "metadata": {
  "kernelspec": {
   "display_name": "Julia 1.6.3",
   "language": "julia",
   "name": "julia-1.6"
  },
  "language_info": {
   "file_extension": ".jl",
   "mimetype": "application/julia",
   "name": "julia",
   "version": "1.6.3"
  }
 },
 "nbformat": 4,
 "nbformat_minor": 4
}
